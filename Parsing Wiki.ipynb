{
 "cells": [
  {
   "cell_type": "markdown",
   "id": "a649e034-cd8c-405f-b997-6e83f7d4a1a0",
   "metadata": {},
   "source": [
    "# Home task 4"
   ]
  },
  {
   "cell_type": "markdown",
   "id": "b97aaf7b-7a28-499c-acd4-d7e6a344815d",
   "metadata": {},
   "source": [
    "1. Download 50-100 pages from WikiPedia that have cross-links (probably pages of the same category).\n",
    "\n",
    "2. Parse these files and create the DataFrame with pages cross-links:\n",
    "\n",
    "* column `page_1_name`: parent page name (page that contains a link)\n",
    "* column `page_1_url`: parent page URL (page that contains a link)\n",
    "* column `page_2_name`: child page name (page that is referred by parent page)\n",
    "* column `page_2_url`: child page URL (page that is referred by parent page)\n",
    "\n",
    "3. Create the DataFrame with `page_url` and `page_id` (1—...) columns (second DataFrame).\n",
    "\n",
    "4. Use it to create a square-shaped DataFrame (third DataFrame) with the same page ids in the index and columns (symmetric index and column names). The third DataFrame should contain zeros and ones (0 and 1). Value `1` at `.loc[1, 2]` position in the DataFrame means that the page with id `1` is referring to page with id `2`."
   ]
  },
  {
   "cell_type": "code",
   "execution_count": 2,
   "id": "19e2bf45",
   "metadata": {},
   "outputs": [],
   "source": [
    "# wget рекурсивная загрузка – ссылки должны быть домен википедия\n",
    "# robots = off который запрещает загрузку\n",
    "\n",
    "# https://beautiful-soup-4.readthedocs.io/en/latest/"
   ]
  },
  {
   "cell_type": "code",
   "execution_count": 1,
   "id": "872b059d",
   "metadata": {},
   "outputs": [],
   "source": [
    "import pandas as pd\n",
    "import itertools\n",
    "import timeit\n",
    "import re"
   ]
  },
  {
   "cell_type": "code",
   "execution_count": 2,
   "id": "7648bc66",
   "metadata": {
    "collapsed": true
   },
   "outputs": [
    {
     "name": "stdout",
     "output_type": "stream",
     "text": [
      "Requirement already satisfied: requests in /Users/macbook/opt/anaconda3/lib/python3.9/site-packages (2.26.0)\n",
      "Requirement already satisfied: urllib3<1.27,>=1.21.1 in /Users/macbook/opt/anaconda3/lib/python3.9/site-packages (from requests) (1.26.7)\n",
      "Requirement already satisfied: certifi>=2017.4.17 in /Users/macbook/opt/anaconda3/lib/python3.9/site-packages (from requests) (2021.10.8)\n",
      "Requirement already satisfied: idna<4,>=2.5 in /Users/macbook/opt/anaconda3/lib/python3.9/site-packages (from requests) (3.2)\n",
      "Requirement already satisfied: charset-normalizer~=2.0.0 in /Users/macbook/opt/anaconda3/lib/python3.9/site-packages (from requests) (2.0.4)\n",
      "Requirement already satisfied: beautifulsoup4 in /Users/macbook/opt/anaconda3/lib/python3.9/site-packages (4.10.0)\n",
      "Requirement already satisfied: soupsieve>1.2 in /Users/macbook/opt/anaconda3/lib/python3.9/site-packages (from beautifulsoup4) (2.2.1)\n"
     ]
    }
   ],
   "source": [
    "!pip install requests\n",
    "!pip install beautifulsoup4"
   ]
  },
  {
   "cell_type": "code",
   "execution_count": 3,
   "id": "b79ec42c",
   "metadata": {},
   "outputs": [],
   "source": [
    "import requests as req\n",
    "from bs4 import BeautifulSoup"
   ]
  },
  {
   "cell_type": "code",
   "execution_count": 4,
   "id": "8ecc0d81",
   "metadata": {},
   "outputs": [],
   "source": [
    "# let's work with wiki-page 'История России'\n",
    "result = req.get('https://ru.wikipedia.org/wiki/%D0%98%D1%81%D1%82%D0%BE%D1%80%D0%B8%D1%8F_%D0%A0%D0%BE%D1%81%D1%81%D0%B8%D0%B8')\n",
    "parser = BeautifulSoup(result.content)"
   ]
  },
  {
   "cell_type": "code",
   "execution_count": 5,
   "id": "039853c5",
   "metadata": {},
   "outputs": [],
   "source": [
    "a = parser.find('div', {'class':\"mw-body-content mw-content-ltr\"})\n",
    "href = a.select('p > a')"
   ]
  },
  {
   "cell_type": "code",
   "execution_count": 6,
   "id": "3032fb20",
   "metadata": {},
   "outputs": [
    {
     "data": {
      "text/plain": [
       "1138"
      ]
     },
     "execution_count": 6,
     "metadata": {},
     "output_type": "execute_result"
    }
   ],
   "source": [
    "# filtering links that starts with '/wiki'\n",
    "\n",
    "links = list(map(lambda x: x.get('href'), href))\n",
    "r = re.compile(\"/wiki\")\n",
    "filtered_links = list(filter(r.match, links)) \n",
    "\n",
    "filtered_href = []\n",
    "for i in href:\n",
    "    if i.get('href') in filtered_links:\n",
    "        filtered_href.append(i)\n",
    "    else:\n",
    "        continue\n",
    "\n",
    "len(filtered_href)"
   ]
  },
  {
   "cell_type": "code",
   "execution_count": 7,
   "id": "8728670d",
   "metadata": {},
   "outputs": [],
   "source": [
    "# add https to filtered links  \n",
    "links = ['https://ru.wikipedia.org' + link.get('href') for link in filtered_href]    "
   ]
  },
  {
   "cell_type": "code",
   "execution_count": 8,
   "id": "0ee1473c",
   "metadata": {},
   "outputs": [
    {
     "data": {
      "text/plain": [
       "1138"
      ]
     },
     "execution_count": 8,
     "metadata": {},
     "output_type": "execute_result"
    }
   ],
   "source": [
    "# extract names of urls\n",
    "subjects_names = list(map(lambda x: x.get('title'), filtered_href))\n",
    "len(subjects_names)"
   ]
  },
  {
   "cell_type": "code",
   "execution_count": 9,
   "id": "d04183b3",
   "metadata": {},
   "outputs": [],
   "source": [
    "# decrease the number of parent pages\n",
    "dict_df = {'page_1_name':subjects_names, 'page_1_url':links}\n",
    "df_wiki = pd.DataFrame(dict_df)\n",
    "df_wiki1 = df_wiki[:100]"
   ]
  },
  {
   "cell_type": "code",
   "execution_count": 10,
   "id": "c2c4c49a",
   "metadata": {},
   "outputs": [
    {
     "data": {
      "text/plain": [
       "91"
      ]
     },
     "execution_count": 10,
     "metadata": {},
     "output_type": "execute_result"
    }
   ],
   "source": [
    "len(df_wiki1['page_1_name'].unique()) # there are several dublicates"
   ]
  },
  {
   "cell_type": "code",
   "execution_count": 11,
   "id": "4054d68f",
   "metadata": {},
   "outputs": [
    {
     "name": "stderr",
     "output_type": "stream",
     "text": [
      "/Users/macbook/opt/anaconda3/lib/python3.9/site-packages/pandas/util/_decorators.py:311: SettingWithCopyWarning: \n",
      "A value is trying to be set on a copy of a slice from a DataFrame\n",
      "\n",
      "See the caveats in the documentation: https://pandas.pydata.org/pandas-docs/stable/user_guide/indexing.html#returning-a-view-versus-a-copy\n",
      "  return func(*args, **kwargs)\n"
     ]
    },
    {
     "data": {
      "text/html": [
       "<div>\n",
       "<style scoped>\n",
       "    .dataframe tbody tr th:only-of-type {\n",
       "        vertical-align: middle;\n",
       "    }\n",
       "\n",
       "    .dataframe tbody tr th {\n",
       "        vertical-align: top;\n",
       "    }\n",
       "\n",
       "    .dataframe thead th {\n",
       "        text-align: right;\n",
       "    }\n",
       "</style>\n",
       "<table border=\"1\" class=\"dataframe\">\n",
       "  <thead>\n",
       "    <tr style=\"text-align: right;\">\n",
       "      <th></th>\n",
       "      <th>page_1_name</th>\n",
       "      <th>page_1_url</th>\n",
       "    </tr>\n",
       "  </thead>\n",
       "  <tbody>\n",
       "    <tr>\n",
       "      <th>0</th>\n",
       "      <td>Восточные славяне</td>\n",
       "      <td>https://ru.wikipedia.org/wiki/%D0%92%D0%BE%D1%...</td>\n",
       "    </tr>\n",
       "    <tr>\n",
       "      <th>1</th>\n",
       "      <td>Восточно-Европейская равнина</td>\n",
       "      <td>https://ru.wikipedia.org/wiki/%D0%92%D0%BE%D1%...</td>\n",
       "    </tr>\n",
       "    <tr>\n",
       "      <th>2</th>\n",
       "      <td>VI</td>\n",
       "      <td>https://ru.wikipedia.org/wiki/VI</td>\n",
       "    </tr>\n",
       "    <tr>\n",
       "      <th>3</th>\n",
       "      <td>Русские</td>\n",
       "      <td>https://ru.wikipedia.org/wiki/%D0%A0%D1%83%D1%...</td>\n",
       "    </tr>\n",
       "    <tr>\n",
       "      <th>4</th>\n",
       "      <td>Украинцы</td>\n",
       "      <td>https://ru.wikipedia.org/wiki/%D0%A3%D0%BA%D1%...</td>\n",
       "    </tr>\n",
       "    <tr>\n",
       "      <th>...</th>\n",
       "      <td>...</td>\n",
       "      <td>...</td>\n",
       "    </tr>\n",
       "    <tr>\n",
       "      <th>86</th>\n",
       "      <td>Октябрьский переворот</td>\n",
       "      <td>https://ru.wikipedia.org/wiki/%D0%9E%D0%BA%D1%...</td>\n",
       "    </tr>\n",
       "    <tr>\n",
       "      <th>87</th>\n",
       "      <td>Установление советской власти в России</td>\n",
       "      <td>https://ru.wikipedia.org/wiki/%D0%A3%D1%81%D1%...</td>\n",
       "    </tr>\n",
       "    <tr>\n",
       "      <th>88</th>\n",
       "      <td>Российская Социалистическая Федеративная Совет...</td>\n",
       "      <td>https://ru.wikipedia.org/wiki/%D0%A0%D0%BE%D1%...</td>\n",
       "    </tr>\n",
       "    <tr>\n",
       "      <th>89</th>\n",
       "      <td>Распад Российской империи</td>\n",
       "      <td>https://ru.wikipedia.org/wiki/%D0%A0%D0%B0%D1%...</td>\n",
       "    </tr>\n",
       "    <tr>\n",
       "      <th>90</th>\n",
       "      <td>Образование СССР</td>\n",
       "      <td>https://ru.wikipedia.org/wiki/%D0%9E%D0%B1%D1%...</td>\n",
       "    </tr>\n",
       "  </tbody>\n",
       "</table>\n",
       "<p>91 rows × 2 columns</p>\n",
       "</div>"
      ],
      "text/plain": [
       "                                          page_1_name  \\\n",
       "0                                   Восточные славяне   \n",
       "1                        Восточно-Европейская равнина   \n",
       "2                                                  VI   \n",
       "3                                             Русские   \n",
       "4                                            Украинцы   \n",
       "..                                                ...   \n",
       "86                              Октябрьский переворот   \n",
       "87             Установление советской власти в России   \n",
       "88  Российская Социалистическая Федеративная Совет...   \n",
       "89                          Распад Российской империи   \n",
       "90                                   Образование СССР   \n",
       "\n",
       "                                           page_1_url  \n",
       "0   https://ru.wikipedia.org/wiki/%D0%92%D0%BE%D1%...  \n",
       "1   https://ru.wikipedia.org/wiki/%D0%92%D0%BE%D1%...  \n",
       "2                    https://ru.wikipedia.org/wiki/VI  \n",
       "3   https://ru.wikipedia.org/wiki/%D0%A0%D1%83%D1%...  \n",
       "4   https://ru.wikipedia.org/wiki/%D0%A3%D0%BA%D1%...  \n",
       "..                                                ...  \n",
       "86  https://ru.wikipedia.org/wiki/%D0%9E%D0%BA%D1%...  \n",
       "87  https://ru.wikipedia.org/wiki/%D0%A3%D1%81%D1%...  \n",
       "88  https://ru.wikipedia.org/wiki/%D0%A0%D0%BE%D1%...  \n",
       "89  https://ru.wikipedia.org/wiki/%D0%A0%D0%B0%D1%...  \n",
       "90  https://ru.wikipedia.org/wiki/%D0%9E%D0%B1%D1%...  \n",
       "\n",
       "[91 rows x 2 columns]"
      ]
     },
     "execution_count": 11,
     "metadata": {},
     "output_type": "execute_result"
    }
   ],
   "source": [
    "# let's delete dublicates\n",
    "df_wiki1.drop_duplicates(inplace = True, ignore_index=True)\n",
    "df_wiki1"
   ]
  },
  {
   "cell_type": "raw",
   "id": "fdfb36b0",
   "metadata": {},
   "source": [
    "#child_pages = []\n",
    "#page_1_name = []\n",
    "#page_1_url = []\n",
    "#def get_links(parent_links):\n",
    "#    for i in parent_links:\n",
    "#        res = req.get(i)\n",
    "#        pars = BeautifulSoup(res.content)\n",
    "#        links = pars.find('div', {'class':\"mw-body-content mw-content-ltr\"}).select('p > a')\n",
    "#        child_pages.extend(links[:50])\n",
    "#        \n",
    "#    return len(child_pages)\n",
    "#\n",
    "#get_links(df_wiki1['page_1_url'])"
   ]
  },
  {
   "cell_type": "code",
   "execution_count": 12,
   "id": "a9e9c20f",
   "metadata": {},
   "outputs": [
    {
     "ename": "AttributeError",
     "evalue": "'NoneType' object has no attribute 'startswith'",
     "output_type": "error",
     "traceback": [
      "\u001b[0;31m---------------------------------------------------------------------------\u001b[0m",
      "\u001b[0;31mAttributeError\u001b[0m                            Traceback (most recent call last)",
      "\u001b[0;32m/var/folders/ws/vf38bhcj6v35f_f7xgby572r0000gn/T/ipykernel_87787/830512707.py\u001b[0m in \u001b[0;36m<module>\u001b[0;34m\u001b[0m\n\u001b[1;32m     20\u001b[0m     \u001b[0;32mreturn\u001b[0m \u001b[0;34mf'Number of child pages: {len(child_pages)}'\u001b[0m\u001b[0;34m\u001b[0m\u001b[0;34m\u001b[0m\u001b[0m\n\u001b[1;32m     21\u001b[0m \u001b[0;34m\u001b[0m\u001b[0m\n\u001b[0;32m---> 22\u001b[0;31m \u001b[0mget_links\u001b[0m\u001b[0;34m(\u001b[0m\u001b[0mdf_wiki1\u001b[0m\u001b[0;34m)\u001b[0m\u001b[0;34m\u001b[0m\u001b[0;34m\u001b[0m\u001b[0m\n\u001b[0m",
      "\u001b[0;32m/var/folders/ws/vf38bhcj6v35f_f7xgby572r0000gn/T/ipykernel_87787/830512707.py\u001b[0m in \u001b[0;36mget_links\u001b[0;34m(df)\u001b[0m\n\u001b[1;32m     10\u001b[0m         \u001b[0mlinks_filtered\u001b[0m \u001b[0;34m=\u001b[0m \u001b[0;34m[\u001b[0m\u001b[0;34m]\u001b[0m\u001b[0;34m\u001b[0m\u001b[0;34m\u001b[0m\u001b[0m\n\u001b[1;32m     11\u001b[0m         \u001b[0;32mfor\u001b[0m \u001b[0mj\u001b[0m \u001b[0;32min\u001b[0m \u001b[0mlinks\u001b[0m\u001b[0;34m:\u001b[0m\u001b[0;34m\u001b[0m\u001b[0;34m\u001b[0m\u001b[0m\n\u001b[0;32m---> 12\u001b[0;31m             \u001b[0;32mif\u001b[0m \u001b[0mj\u001b[0m\u001b[0;34m.\u001b[0m\u001b[0mget\u001b[0m\u001b[0;34m(\u001b[0m\u001b[0;34m'href'\u001b[0m\u001b[0;34m)\u001b[0m\u001b[0;34m.\u001b[0m\u001b[0mstartswith\u001b[0m\u001b[0;34m(\u001b[0m\u001b[0;34m'/wiki'\u001b[0m\u001b[0;34m)\u001b[0m \u001b[0;34m==\u001b[0m \u001b[0;32mTrue\u001b[0m\u001b[0;34m:\u001b[0m\u001b[0;34m\u001b[0m\u001b[0;34m\u001b[0m\u001b[0m\n\u001b[0m\u001b[1;32m     13\u001b[0m                 \u001b[0mlinks_filtered\u001b[0m\u001b[0;34m.\u001b[0m\u001b[0mappend\u001b[0m\u001b[0;34m(\u001b[0m\u001b[0mj\u001b[0m\u001b[0;34m)\u001b[0m\u001b[0;34m\u001b[0m\u001b[0;34m\u001b[0m\u001b[0m\n\u001b[1;32m     14\u001b[0m             \u001b[0;32melse\u001b[0m\u001b[0;34m:\u001b[0m\u001b[0;34m\u001b[0m\u001b[0;34m\u001b[0m\u001b[0m\n",
      "\u001b[0;31mAttributeError\u001b[0m: 'NoneType' object has no attribute 'startswith'"
     ]
    }
   ],
   "source": [
    "child_pages = []\n",
    "page_1_name = []\n",
    "page_1_url = [] \n",
    "\n",
    "def get_links(df):\n",
    "    for i in range(len(df)):\n",
    "        res = req.get(df['page_1_url'][i])\n",
    "        pars = BeautifulSoup(res.content)\n",
    "        links = pars.find('div', {'class':\"mw-body-content mw-content-ltr\"}).select('p > a')\n",
    "        links_filtered = []\n",
    "        for j in links:\n",
    "            if j.get('href').startswith('/wiki') == True:\n",
    "                links_filtered.append(j)\n",
    "            else:\n",
    "                continue\n",
    "        child_pages.extend(links_filtered[:100])\n",
    "        \n",
    "        page_1_name.extend(itertools.repeat(df['page_1_name'][i], len(links_filtered[:100])))\n",
    "        page_1_url.extend(itertools.repeat(df['page_1_url'][i], len(links_filtered[:100])))\n",
    "    return f'Number of child pages: {len(child_pages)}'\n",
    "\n",
    "get_links(df_wiki1)"
   ]
  },
  {
   "cell_type": "code",
   "execution_count": 201,
   "id": "a7bfbc4d",
   "metadata": {},
   "outputs": [
    {
     "name": "stdout",
     "output_type": "stream",
     "text": [
      "27.7 s ± 81.7 ms per loop (mean ± std. dev. of 7 runs, 1 loop each)\n"
     ]
    }
   ],
   "source": [
    "%%timeit\n",
    "get_links(df_wiki1)"
   ]
  },
  {
   "cell_type": "code",
   "execution_count": 13,
   "id": "df3d3cb8",
   "metadata": {},
   "outputs": [
    {
     "data": {
      "text/html": [
       "<div>\n",
       "<style scoped>\n",
       "    .dataframe tbody tr th:only-of-type {\n",
       "        vertical-align: middle;\n",
       "    }\n",
       "\n",
       "    .dataframe tbody tr th {\n",
       "        vertical-align: top;\n",
       "    }\n",
       "\n",
       "    .dataframe thead th {\n",
       "        text-align: right;\n",
       "    }\n",
       "</style>\n",
       "<table border=\"1\" class=\"dataframe\">\n",
       "  <thead>\n",
       "    <tr style=\"text-align: right;\">\n",
       "      <th></th>\n",
       "      <th>page_1_name</th>\n",
       "      <th>page_1_url</th>\n",
       "      <th>page_2_name</th>\n",
       "      <th>page_2_url</th>\n",
       "    </tr>\n",
       "  </thead>\n",
       "  <tbody>\n",
       "    <tr>\n",
       "      <th>0</th>\n",
       "      <td>Восточные славяне</td>\n",
       "      <td>https://ru.wikipedia.org/wiki/%D0%92%D0%BE%D1%...</td>\n",
       "      <td>Славяне</td>\n",
       "      <td>https://ru.wikipedia.org/wiki/%D0%A1%D0%BB%D0%...</td>\n",
       "    </tr>\n",
       "    <tr>\n",
       "      <th>1</th>\n",
       "      <td>Восточные славяне</td>\n",
       "      <td>https://ru.wikipedia.org/wiki/%D0%92%D0%BE%D1%...</td>\n",
       "      <td>Восточнославянские языки</td>\n",
       "      <td>https://ru.wikipedia.org/wiki/%D0%92%D0%BE%D1%...</td>\n",
       "    </tr>\n",
       "    <tr>\n",
       "      <th>2</th>\n",
       "      <td>Восточные славяне</td>\n",
       "      <td>https://ru.wikipedia.org/wiki/%D0%92%D0%BE%D1%...</td>\n",
       "      <td>Племенные союзы восточных славян</td>\n",
       "      <td>https://ru.wikipedia.org/wiki/%D0%9F%D0%BB%D0%...</td>\n",
       "    </tr>\n",
       "    <tr>\n",
       "      <th>3</th>\n",
       "      <td>Восточные славяне</td>\n",
       "      <td>https://ru.wikipedia.org/wiki/%D0%92%D0%BE%D1%...</td>\n",
       "      <td>Древнерусская народность</td>\n",
       "      <td>https://ru.wikipedia.org/wiki/%D0%94%D1%80%D0%...</td>\n",
       "    </tr>\n",
       "    <tr>\n",
       "      <th>4</th>\n",
       "      <td>Восточные славяне</td>\n",
       "      <td>https://ru.wikipedia.org/wiki/%D0%92%D0%BE%D1%...</td>\n",
       "      <td>Средние века</td>\n",
       "      <td>https://ru.wikipedia.org/wiki/%D0%A1%D1%80%D0%...</td>\n",
       "    </tr>\n",
       "    <tr>\n",
       "      <th>...</th>\n",
       "      <td>...</td>\n",
       "      <td>...</td>\n",
       "      <td>...</td>\n",
       "      <td>...</td>\n",
       "    </tr>\n",
       "    <tr>\n",
       "      <th>8145</th>\n",
       "      <td>Российская Социалистическая Федеративная Совет...</td>\n",
       "      <td>https://ru.wikipedia.org/wiki/%D0%A0%D0%BE%D1%...</td>\n",
       "      <td>Верхнеуральск</td>\n",
       "      <td>https://ru.wikipedia.org/wiki/%D0%92%D0%B5%D1%...</td>\n",
       "    </tr>\n",
       "    <tr>\n",
       "      <th>8146</th>\n",
       "      <td>Российская Социалистическая Федеративная Совет...</td>\n",
       "      <td>https://ru.wikipedia.org/wiki/%D0%A0%D0%BE%D1%...</td>\n",
       "      <td>Красная армия</td>\n",
       "      <td>https://ru.wikipedia.org/wiki/%D0%9A%D1%80%D0%...</td>\n",
       "    </tr>\n",
       "    <tr>\n",
       "      <th>8147</th>\n",
       "      <td>Российская Социалистическая Федеративная Совет...</td>\n",
       "      <td>https://ru.wikipedia.org/wiki/%D0%A0%D0%BE%D1%...</td>\n",
       "      <td>Краснинский (Челябинская область)</td>\n",
       "      <td>https://ru.wikipedia.org/wiki/%D0%9A%D1%80%D0%...</td>\n",
       "    </tr>\n",
       "    <tr>\n",
       "      <th>8148</th>\n",
       "      <td>Российская Социалистическая Федеративная Совет...</td>\n",
       "      <td>https://ru.wikipedia.org/wiki/%D0%A0%D0%BE%D1%...</td>\n",
       "      <td>Тургайская степь</td>\n",
       "      <td>https://ru.wikipedia.org/wiki/%D0%A2%D1%83%D1%...</td>\n",
       "    </tr>\n",
       "    <tr>\n",
       "      <th>8149</th>\n",
       "      <td>Российская Социалистическая Федеративная Совет...</td>\n",
       "      <td>https://ru.wikipedia.org/wiki/%D0%A0%D0%BE%D1%...</td>\n",
       "      <td>Первая мировая война</td>\n",
       "      <td>https://ru.wikipedia.org/wiki/%D0%9F%D0%B5%D1%...</td>\n",
       "    </tr>\n",
       "  </tbody>\n",
       "</table>\n",
       "<p>8150 rows × 4 columns</p>\n",
       "</div>"
      ],
      "text/plain": [
       "                                            page_1_name  \\\n",
       "0                                     Восточные славяне   \n",
       "1                                     Восточные славяне   \n",
       "2                                     Восточные славяне   \n",
       "3                                     Восточные славяне   \n",
       "4                                     Восточные славяне   \n",
       "...                                                 ...   \n",
       "8145  Российская Социалистическая Федеративная Совет...   \n",
       "8146  Российская Социалистическая Федеративная Совет...   \n",
       "8147  Российская Социалистическая Федеративная Совет...   \n",
       "8148  Российская Социалистическая Федеративная Совет...   \n",
       "8149  Российская Социалистическая Федеративная Совет...   \n",
       "\n",
       "                                             page_1_url  \\\n",
       "0     https://ru.wikipedia.org/wiki/%D0%92%D0%BE%D1%...   \n",
       "1     https://ru.wikipedia.org/wiki/%D0%92%D0%BE%D1%...   \n",
       "2     https://ru.wikipedia.org/wiki/%D0%92%D0%BE%D1%...   \n",
       "3     https://ru.wikipedia.org/wiki/%D0%92%D0%BE%D1%...   \n",
       "4     https://ru.wikipedia.org/wiki/%D0%92%D0%BE%D1%...   \n",
       "...                                                 ...   \n",
       "8145  https://ru.wikipedia.org/wiki/%D0%A0%D0%BE%D1%...   \n",
       "8146  https://ru.wikipedia.org/wiki/%D0%A0%D0%BE%D1%...   \n",
       "8147  https://ru.wikipedia.org/wiki/%D0%A0%D0%BE%D1%...   \n",
       "8148  https://ru.wikipedia.org/wiki/%D0%A0%D0%BE%D1%...   \n",
       "8149  https://ru.wikipedia.org/wiki/%D0%A0%D0%BE%D1%...   \n",
       "\n",
       "                            page_2_name  \\\n",
       "0                               Славяне   \n",
       "1              Восточнославянские языки   \n",
       "2      Племенные союзы восточных славян   \n",
       "3              Древнерусская народность   \n",
       "4                          Средние века   \n",
       "...                                 ...   \n",
       "8145                      Верхнеуральск   \n",
       "8146                      Красная армия   \n",
       "8147  Краснинский (Челябинская область)   \n",
       "8148                   Тургайская степь   \n",
       "8149               Первая мировая война   \n",
       "\n",
       "                                             page_2_url  \n",
       "0     https://ru.wikipedia.org/wiki/%D0%A1%D0%BB%D0%...  \n",
       "1     https://ru.wikipedia.org/wiki/%D0%92%D0%BE%D1%...  \n",
       "2     https://ru.wikipedia.org/wiki/%D0%9F%D0%BB%D0%...  \n",
       "3     https://ru.wikipedia.org/wiki/%D0%94%D1%80%D0%...  \n",
       "4     https://ru.wikipedia.org/wiki/%D0%A1%D1%80%D0%...  \n",
       "...                                                 ...  \n",
       "8145  https://ru.wikipedia.org/wiki/%D0%92%D0%B5%D1%...  \n",
       "8146  https://ru.wikipedia.org/wiki/%D0%9A%D1%80%D0%...  \n",
       "8147  https://ru.wikipedia.org/wiki/%D0%9A%D1%80%D0%...  \n",
       "8148  https://ru.wikipedia.org/wiki/%D0%A2%D1%83%D1%...  \n",
       "8149  https://ru.wikipedia.org/wiki/%D0%9F%D0%B5%D1%...  \n",
       "\n",
       "[8150 rows x 4 columns]"
      ]
     },
     "execution_count": 13,
     "metadata": {},
     "output_type": "execute_result"
    }
   ],
   "source": [
    "page_2_name = list(map(lambda x: x.get('title'), child_pages))\n",
    "page_2_url = list(map(lambda x: 'https://ru.wikipedia.org' + x.get('href'), child_pages))\n",
    "                   \n",
    "final_wiki = pd.DataFrame({'page_1_name': page_1_name, \n",
    "                           'page_1_url': page_1_url, \n",
    "                           'page_2_name': page_2_name,\n",
    "                           'page_2_url': page_2_url})\n",
    "final_wiki"
   ]
  },
  {
   "cell_type": "raw",
   "id": "29872490",
   "metadata": {},
   "source": [
    "# check for correctness of child links\n",
    "print(final_wiki[final_wiki['page_1_name'] == 'XVIII век'])\n",
    "final_wiki[final_wiki['page_1_name'] == 'Социализм'].head(5)"
   ]
  },
  {
   "cell_type": "code",
   "execution_count": 14,
   "id": "8758075b",
   "metadata": {},
   "outputs": [
    {
     "data": {
      "text/plain": [
       "page_1_name\n",
       "VI                             3\n",
       "862 год                        7\n",
       "Государственный терроризм      7\n",
       "Жандарм Европы                23\n",
       "Первомартовцы                 26\n",
       "                            ... \n",
       "Иван Грозный                 100\n",
       "Иван III Васильевич          100\n",
       "Золотая орда                 100\n",
       "Ленин, Владимир Ильич        100\n",
       "Японская империя             100\n",
       "Name: page_1_url, Length: 89, dtype: int64"
      ]
     },
     "execution_count": 14,
     "metadata": {},
     "output_type": "execute_result"
    }
   ],
   "source": [
    "# checking for correct parsing -> shouldn't be more 100 \n",
    "final_wiki.groupby('page_1_name')['page_1_url'].count().sort_values() "
   ]
  },
  {
   "cell_type": "code",
   "execution_count": 15,
   "id": "68ebd273",
   "metadata": {},
   "outputs": [
    {
     "data": {
      "text/plain": [
       "page_2_name\n",
       "Российская империя       43\n",
       "Повесть временных лет    29\n",
       "Москва                   21\n",
       "Николай II               20\n",
       "1917 год                 20\n",
       "Февральская революция    19\n",
       "Санкт-Петербург          19\n",
       "Николай I                19\n",
       "Речь Посполитая          19\n",
       "Русь                     19\n",
       "Name: page_2_url, dtype: int64"
      ]
     },
     "execution_count": 15,
     "metadata": {},
     "output_type": "execute_result"
    }
   ],
   "source": [
    "# there are several cross-links in the dataset!\n",
    "final_wiki.groupby('page_2_name')['page_2_url'].count().sort_values(ascending = False).head(10)"
   ]
  },
  {
   "cell_type": "code",
   "execution_count": 16,
   "id": "7bf16688",
   "metadata": {},
   "outputs": [
    {
     "name": "stdout",
     "output_type": "stream",
     "text": [
      "16300\n"
     ]
    },
    {
     "data": {
      "text/plain": [
       "4780"
      ]
     },
     "execution_count": 16,
     "metadata": {},
     "output_type": "execute_result"
    }
   ],
   "source": [
    "# creating list with unique urls\n",
    "\n",
    "all_url = [*final_wiki['page_1_url'], *final_wiki['page_2_url']]\n",
    "print(len(all_url))\n",
    "all_url = list(set(all_url))\n",
    "len(all_url)"
   ]
  },
  {
   "cell_type": "code",
   "execution_count": 17,
   "id": "4f909ef0",
   "metadata": {},
   "outputs": [],
   "source": [
    "# create a distionary with ids\n",
    "dict_url = dict(list(enumerate(all_url)))\n",
    "keys = list(dict_url.keys())\n",
    "values = list(dict_url.values())"
   ]
  },
  {
   "cell_type": "code",
   "execution_count": 18,
   "id": "a03f9e03",
   "metadata": {},
   "outputs": [],
   "source": [
    "# extract ids\n",
    "ids_1 = []\n",
    "for i in page_1_url: \n",
    "    for j in values:\n",
    "        if i == j:\n",
    "            ids_1.append(keys[values.index(j)]) \n",
    "    else:\n",
    "        continue\n",
    "        \n",
    "ids_2 = []\n",
    "for i in page_2_url: \n",
    "    for j in values:\n",
    "        if i == j:\n",
    "            ids_2.append(keys[values.index(j)]) \n",
    "    else:\n",
    "        continue"
   ]
  },
  {
   "cell_type": "code",
   "execution_count": 19,
   "id": "1775fe3f",
   "metadata": {},
   "outputs": [
    {
     "data": {
      "text/html": [
       "<div>\n",
       "<style scoped>\n",
       "    .dataframe tbody tr th:only-of-type {\n",
       "        vertical-align: middle;\n",
       "    }\n",
       "\n",
       "    .dataframe tbody tr th {\n",
       "        vertical-align: top;\n",
       "    }\n",
       "\n",
       "    .dataframe thead th {\n",
       "        text-align: right;\n",
       "    }\n",
       "</style>\n",
       "<table border=\"1\" class=\"dataframe\">\n",
       "  <thead>\n",
       "    <tr style=\"text-align: right;\">\n",
       "      <th></th>\n",
       "      <th>id_1</th>\n",
       "      <th>id_2</th>\n",
       "    </tr>\n",
       "  </thead>\n",
       "  <tbody>\n",
       "    <tr>\n",
       "      <th>0</th>\n",
       "      <td>127</td>\n",
       "      <td>3336</td>\n",
       "    </tr>\n",
       "    <tr>\n",
       "      <th>1</th>\n",
       "      <td>127</td>\n",
       "      <td>3542</td>\n",
       "    </tr>\n",
       "  </tbody>\n",
       "</table>\n",
       "</div>"
      ],
      "text/plain": [
       "   id_1  id_2\n",
       "0   127  3336\n",
       "1   127  3542"
      ]
     },
     "execution_count": 19,
     "metadata": {},
     "output_type": "execute_result"
    }
   ],
   "source": [
    "# add columns to dataframe\n",
    "final_wiki['id_1'] = ids_1\n",
    "final_wiki['id_2'] = ids_2\n",
    "ids_wiki = final_wiki[['id_1', 'id_2']]\n",
    "ids_wiki.head(2)"
   ]
  },
  {
   "cell_type": "code",
   "execution_count": 24,
   "id": "2ad1dff1",
   "metadata": {},
   "outputs": [],
   "source": [
    "final_names_ids = final_wiki[['id_1', 'id_2', 'page_1_name', 'page_2_name']]"
   ]
  },
  {
   "cell_type": "code",
   "execution_count": 25,
   "id": "67dd1855",
   "metadata": {},
   "outputs": [],
   "source": [
    "final_names_ids.to_csv('/Users/macbook/Desktop/ids_names.csv', index=False)"
   ]
  },
  {
   "cell_type": "code",
   "execution_count": 20,
   "id": "d8392ab0",
   "metadata": {},
   "outputs": [],
   "source": [
    "matrix = pd.crosstab(ids_wiki.id_1, ids_wiki.id_2)"
   ]
  },
  {
   "cell_type": "code",
   "execution_count": 21,
   "id": "b2abfa15",
   "metadata": {},
   "outputs": [],
   "source": [
    "idx = matrix.columns.union(matrix.index)"
   ]
  },
  {
   "cell_type": "code",
   "execution_count": 22,
   "id": "168c15d6",
   "metadata": {},
   "outputs": [
    {
     "data": {
      "text/html": [
       "<div>\n",
       "<style scoped>\n",
       "    .dataframe tbody tr th:only-of-type {\n",
       "        vertical-align: middle;\n",
       "    }\n",
       "\n",
       "    .dataframe tbody tr th {\n",
       "        vertical-align: top;\n",
       "    }\n",
       "\n",
       "    .dataframe thead th {\n",
       "        text-align: right;\n",
       "    }\n",
       "</style>\n",
       "<table border=\"1\" class=\"dataframe\">\n",
       "  <thead>\n",
       "    <tr style=\"text-align: right;\">\n",
       "      <th></th>\n",
       "      <th>0</th>\n",
       "      <th>1</th>\n",
       "      <th>2</th>\n",
       "      <th>3</th>\n",
       "      <th>4</th>\n",
       "      <th>5</th>\n",
       "      <th>6</th>\n",
       "      <th>7</th>\n",
       "      <th>8</th>\n",
       "      <th>9</th>\n",
       "      <th>...</th>\n",
       "      <th>4482</th>\n",
       "      <th>4483</th>\n",
       "      <th>4484</th>\n",
       "      <th>4485</th>\n",
       "      <th>4486</th>\n",
       "      <th>4487</th>\n",
       "      <th>4488</th>\n",
       "      <th>4489</th>\n",
       "      <th>4490</th>\n",
       "      <th>4491</th>\n",
       "    </tr>\n",
       "  </thead>\n",
       "  <tbody>\n",
       "    <tr>\n",
       "      <th>0</th>\n",
       "      <td>0</td>\n",
       "      <td>0</td>\n",
       "      <td>0</td>\n",
       "      <td>0</td>\n",
       "      <td>0</td>\n",
       "      <td>0</td>\n",
       "      <td>0</td>\n",
       "      <td>0</td>\n",
       "      <td>0</td>\n",
       "      <td>0</td>\n",
       "      <td>...</td>\n",
       "      <td>0</td>\n",
       "      <td>0</td>\n",
       "      <td>0</td>\n",
       "      <td>0</td>\n",
       "      <td>0</td>\n",
       "      <td>0</td>\n",
       "      <td>0</td>\n",
       "      <td>0</td>\n",
       "      <td>0</td>\n",
       "      <td>0</td>\n",
       "    </tr>\n",
       "    <tr>\n",
       "      <th>1</th>\n",
       "      <td>0</td>\n",
       "      <td>0</td>\n",
       "      <td>0</td>\n",
       "      <td>0</td>\n",
       "      <td>0</td>\n",
       "      <td>0</td>\n",
       "      <td>0</td>\n",
       "      <td>0</td>\n",
       "      <td>0</td>\n",
       "      <td>0</td>\n",
       "      <td>...</td>\n",
       "      <td>0</td>\n",
       "      <td>0</td>\n",
       "      <td>0</td>\n",
       "      <td>0</td>\n",
       "      <td>0</td>\n",
       "      <td>0</td>\n",
       "      <td>0</td>\n",
       "      <td>0</td>\n",
       "      <td>0</td>\n",
       "      <td>0</td>\n",
       "    </tr>\n",
       "    <tr>\n",
       "      <th>2</th>\n",
       "      <td>0</td>\n",
       "      <td>0</td>\n",
       "      <td>0</td>\n",
       "      <td>0</td>\n",
       "      <td>0</td>\n",
       "      <td>0</td>\n",
       "      <td>0</td>\n",
       "      <td>0</td>\n",
       "      <td>0</td>\n",
       "      <td>0</td>\n",
       "      <td>...</td>\n",
       "      <td>0</td>\n",
       "      <td>0</td>\n",
       "      <td>0</td>\n",
       "      <td>0</td>\n",
       "      <td>0</td>\n",
       "      <td>0</td>\n",
       "      <td>0</td>\n",
       "      <td>0</td>\n",
       "      <td>0</td>\n",
       "      <td>0</td>\n",
       "    </tr>\n",
       "    <tr>\n",
       "      <th>3</th>\n",
       "      <td>0</td>\n",
       "      <td>0</td>\n",
       "      <td>0</td>\n",
       "      <td>0</td>\n",
       "      <td>0</td>\n",
       "      <td>0</td>\n",
       "      <td>0</td>\n",
       "      <td>0</td>\n",
       "      <td>0</td>\n",
       "      <td>0</td>\n",
       "      <td>...</td>\n",
       "      <td>0</td>\n",
       "      <td>0</td>\n",
       "      <td>0</td>\n",
       "      <td>0</td>\n",
       "      <td>0</td>\n",
       "      <td>0</td>\n",
       "      <td>0</td>\n",
       "      <td>0</td>\n",
       "      <td>0</td>\n",
       "      <td>0</td>\n",
       "    </tr>\n",
       "    <tr>\n",
       "      <th>4</th>\n",
       "      <td>0</td>\n",
       "      <td>0</td>\n",
       "      <td>0</td>\n",
       "      <td>0</td>\n",
       "      <td>0</td>\n",
       "      <td>0</td>\n",
       "      <td>0</td>\n",
       "      <td>0</td>\n",
       "      <td>0</td>\n",
       "      <td>0</td>\n",
       "      <td>...</td>\n",
       "      <td>0</td>\n",
       "      <td>0</td>\n",
       "      <td>0</td>\n",
       "      <td>0</td>\n",
       "      <td>0</td>\n",
       "      <td>0</td>\n",
       "      <td>0</td>\n",
       "      <td>0</td>\n",
       "      <td>0</td>\n",
       "      <td>0</td>\n",
       "    </tr>\n",
       "    <tr>\n",
       "      <th>...</th>\n",
       "      <td>...</td>\n",
       "      <td>...</td>\n",
       "      <td>...</td>\n",
       "      <td>...</td>\n",
       "      <td>...</td>\n",
       "      <td>...</td>\n",
       "      <td>...</td>\n",
       "      <td>...</td>\n",
       "      <td>...</td>\n",
       "      <td>...</td>\n",
       "      <td>...</td>\n",
       "      <td>...</td>\n",
       "      <td>...</td>\n",
       "      <td>...</td>\n",
       "      <td>...</td>\n",
       "      <td>...</td>\n",
       "      <td>...</td>\n",
       "      <td>...</td>\n",
       "      <td>...</td>\n",
       "      <td>...</td>\n",
       "      <td>...</td>\n",
       "    </tr>\n",
       "    <tr>\n",
       "      <th>4487</th>\n",
       "      <td>0</td>\n",
       "      <td>0</td>\n",
       "      <td>0</td>\n",
       "      <td>0</td>\n",
       "      <td>0</td>\n",
       "      <td>0</td>\n",
       "      <td>0</td>\n",
       "      <td>0</td>\n",
       "      <td>0</td>\n",
       "      <td>0</td>\n",
       "      <td>...</td>\n",
       "      <td>0</td>\n",
       "      <td>0</td>\n",
       "      <td>0</td>\n",
       "      <td>0</td>\n",
       "      <td>0</td>\n",
       "      <td>0</td>\n",
       "      <td>0</td>\n",
       "      <td>0</td>\n",
       "      <td>0</td>\n",
       "      <td>0</td>\n",
       "    </tr>\n",
       "    <tr>\n",
       "      <th>4488</th>\n",
       "      <td>0</td>\n",
       "      <td>0</td>\n",
       "      <td>0</td>\n",
       "      <td>0</td>\n",
       "      <td>0</td>\n",
       "      <td>0</td>\n",
       "      <td>0</td>\n",
       "      <td>0</td>\n",
       "      <td>0</td>\n",
       "      <td>0</td>\n",
       "      <td>...</td>\n",
       "      <td>0</td>\n",
       "      <td>0</td>\n",
       "      <td>0</td>\n",
       "      <td>0</td>\n",
       "      <td>0</td>\n",
       "      <td>0</td>\n",
       "      <td>0</td>\n",
       "      <td>0</td>\n",
       "      <td>0</td>\n",
       "      <td>0</td>\n",
       "    </tr>\n",
       "    <tr>\n",
       "      <th>4489</th>\n",
       "      <td>0</td>\n",
       "      <td>0</td>\n",
       "      <td>0</td>\n",
       "      <td>0</td>\n",
       "      <td>0</td>\n",
       "      <td>0</td>\n",
       "      <td>0</td>\n",
       "      <td>0</td>\n",
       "      <td>0</td>\n",
       "      <td>0</td>\n",
       "      <td>...</td>\n",
       "      <td>0</td>\n",
       "      <td>0</td>\n",
       "      <td>0</td>\n",
       "      <td>0</td>\n",
       "      <td>0</td>\n",
       "      <td>0</td>\n",
       "      <td>0</td>\n",
       "      <td>0</td>\n",
       "      <td>0</td>\n",
       "      <td>0</td>\n",
       "    </tr>\n",
       "    <tr>\n",
       "      <th>4490</th>\n",
       "      <td>0</td>\n",
       "      <td>0</td>\n",
       "      <td>0</td>\n",
       "      <td>0</td>\n",
       "      <td>0</td>\n",
       "      <td>0</td>\n",
       "      <td>0</td>\n",
       "      <td>0</td>\n",
       "      <td>0</td>\n",
       "      <td>0</td>\n",
       "      <td>...</td>\n",
       "      <td>0</td>\n",
       "      <td>0</td>\n",
       "      <td>0</td>\n",
       "      <td>0</td>\n",
       "      <td>0</td>\n",
       "      <td>0</td>\n",
       "      <td>0</td>\n",
       "      <td>0</td>\n",
       "      <td>0</td>\n",
       "      <td>0</td>\n",
       "    </tr>\n",
       "    <tr>\n",
       "      <th>4491</th>\n",
       "      <td>0</td>\n",
       "      <td>0</td>\n",
       "      <td>0</td>\n",
       "      <td>0</td>\n",
       "      <td>0</td>\n",
       "      <td>0</td>\n",
       "      <td>0</td>\n",
       "      <td>0</td>\n",
       "      <td>0</td>\n",
       "      <td>0</td>\n",
       "      <td>...</td>\n",
       "      <td>0</td>\n",
       "      <td>0</td>\n",
       "      <td>0</td>\n",
       "      <td>0</td>\n",
       "      <td>0</td>\n",
       "      <td>0</td>\n",
       "      <td>0</td>\n",
       "      <td>0</td>\n",
       "      <td>0</td>\n",
       "      <td>0</td>\n",
       "    </tr>\n",
       "  </tbody>\n",
       "</table>\n",
       "<p>4492 rows × 4492 columns</p>\n",
       "</div>"
      ],
      "text/plain": [
       "      0     1     2     3     4     5     6     7     8     9     ...  4482  \\\n",
       "0        0     0     0     0     0     0     0     0     0     0  ...     0   \n",
       "1        0     0     0     0     0     0     0     0     0     0  ...     0   \n",
       "2        0     0     0     0     0     0     0     0     0     0  ...     0   \n",
       "3        0     0     0     0     0     0     0     0     0     0  ...     0   \n",
       "4        0     0     0     0     0     0     0     0     0     0  ...     0   \n",
       "...    ...   ...   ...   ...   ...   ...   ...   ...   ...   ...  ...   ...   \n",
       "4487     0     0     0     0     0     0     0     0     0     0  ...     0   \n",
       "4488     0     0     0     0     0     0     0     0     0     0  ...     0   \n",
       "4489     0     0     0     0     0     0     0     0     0     0  ...     0   \n",
       "4490     0     0     0     0     0     0     0     0     0     0  ...     0   \n",
       "4491     0     0     0     0     0     0     0     0     0     0  ...     0   \n",
       "\n",
       "      4483  4484  4485  4486  4487  4488  4489  4490  4491  \n",
       "0        0     0     0     0     0     0     0     0     0  \n",
       "1        0     0     0     0     0     0     0     0     0  \n",
       "2        0     0     0     0     0     0     0     0     0  \n",
       "3        0     0     0     0     0     0     0     0     0  \n",
       "4        0     0     0     0     0     0     0     0     0  \n",
       "...    ...   ...   ...   ...   ...   ...   ...   ...   ...  \n",
       "4487     0     0     0     0     0     0     0     0     0  \n",
       "4488     0     0     0     0     0     0     0     0     0  \n",
       "4489     0     0     0     0     0     0     0     0     0  \n",
       "4490     0     0     0     0     0     0     0     0     0  \n",
       "4491     0     0     0     0     0     0     0     0     0  \n",
       "\n",
       "[4492 rows x 4492 columns]"
      ]
     },
     "execution_count": 22,
     "metadata": {},
     "output_type": "execute_result"
    }
   ],
   "source": [
    "matrix1 = matrix.reindex(index = idx, columns=idx, fill_value=0)\n",
    "matrix1"
   ]
  },
  {
   "cell_type": "code",
   "execution_count": 24,
   "id": "5a9a1129",
   "metadata": {},
   "outputs": [
    {
     "data": {
      "text/plain": [
       "465    1\n",
       "436    1\n",
       "Name: 3828, dtype: int64"
      ]
     },
     "execution_count": 24,
     "metadata": {},
     "output_type": "execute_result"
    }
   ],
   "source": [
    "# check if matrix is correct\n",
    "matrix1.loc[3828, [465, 436]] # interactions was detected"
   ]
  },
  {
   "cell_type": "markdown",
   "id": "a67fdec2-91dc-44da-b781-bec8dfd78376",
   "metadata": {},
   "source": [
    "## Results"
   ]
  },
  {
   "cell_type": "markdown",
   "id": "c9582a0f-3403-4f7d-a2f4-67f06e61a98a",
   "metadata": {},
   "source": [
    "Please create a Jupyter Notebook file named as `lastname_hometask4.ipynb` (example: `terpilowski_hometask4.ipynb`) and place all the code in it. Create an archive with the generated files and Jupyter Notebook named as `lastname_hometask4.zip`."
   ]
  }
 ],
 "metadata": {
  "kernelspec": {
   "display_name": "Python 3 (ipykernel)",
   "language": "python",
   "name": "python3"
  },
  "language_info": {
   "codemirror_mode": {
    "name": "ipython",
    "version": 3
   },
   "file_extension": ".py",
   "mimetype": "text/x-python",
   "name": "python",
   "nbconvert_exporter": "python",
   "pygments_lexer": "ipython3",
   "version": "3.9.7"
  }
 },
 "nbformat": 4,
 "nbformat_minor": 5
}
